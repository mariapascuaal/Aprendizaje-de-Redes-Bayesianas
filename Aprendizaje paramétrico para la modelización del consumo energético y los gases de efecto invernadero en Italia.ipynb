{
  "nbformat": 4,
  "nbformat_minor": 0,
  "metadata": {
    "colab": {
      "provenance": []
    },
    "kernelspec": {
      "name": "python3",
      "display_name": "Python 3"
    },
    "language_info": {
      "name": "python"
    }
  },
  "cells": [
    {
      "cell_type": "markdown",
      "source": [
        "# **Aprendizaje paramétrico de una Red Bayesiana para la modelización del consumo energético y los gases de efecto invernadero en Italia**"
      ],
      "metadata": {
        "id": "tMD9hom_D8gG"
      }
    },
    {
      "cell_type": "markdown",
      "source": [
        "## Contexto"
      ],
      "metadata": {
        "id": "zkqs_jBzECYD"
      }
    },
    {
      "cell_type": "markdown",
      "source": [
        "El cambio climático y el calentamiento global son fenómenos ampliamente reconocidos como consecuencia de la acumulación de gases de efecto invernadero en la atmósfera. Estos gases, principalmente el dióxido de carbono (CO2), metano (CH4) y óxidos de nitrógeno (N2O, contribuyen al atrapamiento del calor y al aumento de la temperatura global [EPA](https://www.epa.gov/ghgemissions/overview-greenhouse-gases). A medida que la humanidad sigue incrementando el consumo de combustibles fósiles, la emisión de estos gases sigue aumentando, afectando a diversas áreas del planeta, incluida Italia.\n",
        "\n",
        "Uno de los factores clave para entender y predecir las emisiones de gases de efecto invernadero es el consumo de energía. Este factor está vinculado estrechamente con el uso de fuentes de energía renovables y no renovables, el crecimiento poblacional, la urbanización y el Producto Interno Bruto (PIB), entre otros. Para modelar las relaciones causales entre estos factores, se emplea una Red Bayesiana, la cual permite realizar inferencias probabilísticas y capturar la incertidumbre inherente a las relaciones entre variables.\n",
        "\n",
        "En este contexto, se utilizarán métodos de aprendizaje paramétrico para ajustar las probabilidades condicionales de las variables en la Red Bayesiana, con el fin de comprender mejor cómo el consumo de energía influye en las emisiones de gases de efecto invernadero en Italia.\n",
        "\n",
        "Este trabajo está inspirado en el trabajo realizado por Lorenzo Mario Amorosa [Repositorio de GitHub](https://github.com/Lostefra/Bayesian-network-greenhouse-gases)."
      ],
      "metadata": {
        "id": "kzCwqFG6EETt"
      }
    },
    {
      "cell_type": "markdown",
      "source": [
        "## Definición de la Red Bayesiana"
      ],
      "metadata": {
        "id": "48usjp2YH3Bj"
      }
    },
    {
      "cell_type": "markdown",
      "source": [
        "Dados los supuestos del contexto del problema, la Red Bayesiana se define del siguiente modo:"
      ],
      "metadata": {
        "id": "jEUETfazmxtU"
      }
    },
    {
      "cell_type": "markdown",
      "source": [
        "![imagen.png](data:image/png;base64,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)"
      ],
      "metadata": {
        "id": "Gf0ZjqnznCOm"
      }
    },
    {
      "cell_type": "markdown",
      "source": [
        "- **Pop**: Crecimiento poblacional anual (%)\n",
        "- **Urb**: Crecimiento de la población urbana anual (%)\n",
        "- **GDP**: Crecimiento anual del PIB per cápita (%)\n",
        "- **EC**: Uso de energía (kg de petróleo equivalente per cápita) - Crecimiento anual (%)\n",
        "- **FFEC**: Consumo de energía de combustibles fósiles (% del total) - Crecimiento anual (%)\n",
        "- **REC**: Consumo de energía renovable (% del total del consumo final de energía) - Crecimiento anual (%)\n",
        "- **EI**: Importaciones netas de energía (% del uso total de energía) - Crecimiento anual (%)\n",
        "- **CO2**: Emisiones de CO2 (toneladas métricas per cápita) - Crecimiento anual (%)\n",
        "- **CH4**: Emisiones de metano en el sector energético (miles de toneladas métricas de CO2 equivalente) - Crecimiento anual (%)\n",
        "- **N2O**: Emisiones de óxidos de nitrógeno en el sector energético (miles de toneladas métricas de CO2 equivalente) - Crecimiento anual (%)\n"
      ],
      "metadata": {
        "id": "qo0iKsyinYx8"
      }
    },
    {
      "cell_type": "markdown",
      "source": [
        "Crearemos esta Red Bayesiana usando la librería de [pgmpy](https://github.com/pgmpy/pgmpy)."
      ],
      "metadata": {
        "id": "vJMaVGHpnnJw"
      }
    },
    {
      "cell_type": "code",
      "source": [
        "from pgmpy.models import BayesianNetwork\n",
        "\n",
        "model = BayesianNetwork([('Pop', 'EC'),   ('Urb', 'EC'),   ('GDP', 'EC'),\n",
        "                       ('EC', 'FFEC'),  ('EC', 'REC'),   ('EC', 'EI'),\n",
        "                       ('REC', 'CO2'),  ('REC', 'CH4'),  ('REC', 'N2O'),\n",
        "                       ('FFEC', 'CO2'), ('FFEC', 'CH4'), ('FFEC', 'N2O')])"
      ],
      "metadata": {
        "id": "vjpnkqiwmjA9"
      },
      "execution_count": 33,
      "outputs": []
    },
    {
      "cell_type": "markdown",
      "source": [
        "## Lectura de los datos"
      ],
      "metadata": {
        "id": "HDCk8rGHmjoD"
      }
    },
    {
      "cell_type": "markdown",
      "source": [
        "Antes de leer el dataset, importamos todas las librerías necesarias para poder desarrollar el notebook."
      ],
      "metadata": {
        "id": "f0C48WhiSz-J"
      }
    },
    {
      "cell_type": "code",
      "source": [
        "#Matplotlib and networkx are used to plot the graph\n",
        "import matplotlib.pyplot as plt\n",
        "import networkx as nx\n",
        "\n",
        "#Essential python libraries\n",
        "import numpy as np\n",
        "import pandas as pd\n",
        "\n",
        "#Pgmpy modules used throughout the code\n",
        "from pgmpy.estimators import BayesianEstimator, MaximumLikelihoodEstimator\n",
        "from IPython.core.display import display, HTML"
      ],
      "metadata": {
        "id": "fwNlnwU5S8OC"
      },
      "execution_count": 34,
      "outputs": []
    },
    {
      "cell_type": "code",
      "source": [
        "df = pd.read_csv(\"italy-data.csv\")\n",
        "df.head()"
      ],
      "metadata": {
        "colab": {
          "base_uri": "https://localhost:8080/",
          "height": 206
        },
        "id": "4c156zo1qDDq",
        "outputId": "5538c5c7-7cc7-413e-8fbe-83c1fc870214"
      },
      "execution_count": 39,
      "outputs": [
        {
          "output_type": "execute_result",
          "data": {
            "text/plain": [
              "                 Pop                Urb                GDP  \\\n",
              "0  C: +0.50 to +1.99  C: +0.82 to +2.84                NaN   \n",
              "1  C: +0.50 to +1.99  C: +0.82 to +2.84  C: +2.89 to +7.49   \n",
              "2  C: +0.50 to +1.99  C: +0.82 to +2.84  C: +2.89 to +7.49   \n",
              "3  C: +0.50 to +1.99  C: +0.82 to +2.84  C: +2.89 to +7.49   \n",
              "4  C: +0.50 to +1.99  C: +0.82 to +2.84  B: +1.24 to +2.89   \n",
              "\n",
              "                   EC               FFEC  REC                 EI  \\\n",
              "0                 NaN                NaN  NaN                NaN   \n",
              "1  C: +2.79 to +13.06  C: +0.16 to +2.34  NaN  C: +0.78 to +5.75   \n",
              "2  C: +2.79 to +13.06  C: +0.16 to +2.34  NaN  C: +0.78 to +5.75   \n",
              "3  C: +2.79 to +13.06  B: -0.40 to +0.16  NaN  C: +0.78 to +5.75   \n",
              "4  C: +2.79 to +13.06  C: +0.16 to +2.34  NaN  B: -0.38 to +0.78   \n",
              "\n",
              "                  CO2  CH4  N2O  \n",
              "0                 NaN  NaN  NaN  \n",
              "1  C: +3.81 to +17.59  NaN  NaN  \n",
              "2  C: +3.81 to +17.59  NaN  NaN  \n",
              "3  C: +3.81 to +17.59  NaN  NaN  \n",
              "4  C: +3.81 to +17.59  NaN  NaN  "
            ],
            "text/html": [
              "\n",
              "  <div id=\"df-05cb0ea9-0d70-4044-8d2d-8d25e3a62610\" class=\"colab-df-container\">\n",
              "    <div>\n",
              "<style scoped>\n",
              "    .dataframe tbody tr th:only-of-type {\n",
              "        vertical-align: middle;\n",
              "    }\n",
              "\n",
              "    .dataframe tbody tr th {\n",
              "        vertical-align: top;\n",
              "    }\n",
              "\n",
              "    .dataframe thead th {\n",
              "        text-align: right;\n",
              "    }\n",
              "</style>\n",
              "<table border=\"1\" class=\"dataframe\">\n",
              "  <thead>\n",
              "    <tr style=\"text-align: right;\">\n",
              "      <th></th>\n",
              "      <th>Pop</th>\n",
              "      <th>Urb</th>\n",
              "      <th>GDP</th>\n",
              "      <th>EC</th>\n",
              "      <th>FFEC</th>\n",
              "      <th>REC</th>\n",
              "      <th>EI</th>\n",
              "      <th>CO2</th>\n",
              "      <th>CH4</th>\n",
              "      <th>N2O</th>\n",
              "    </tr>\n",
              "  </thead>\n",
              "  <tbody>\n",
              "    <tr>\n",
              "      <th>0</th>\n",
              "      <td>C: +0.50 to +1.99</td>\n",
              "      <td>C: +0.82 to +2.84</td>\n",
              "      <td>NaN</td>\n",
              "      <td>NaN</td>\n",
              "      <td>NaN</td>\n",
              "      <td>NaN</td>\n",
              "      <td>NaN</td>\n",
              "      <td>NaN</td>\n",
              "      <td>NaN</td>\n",
              "      <td>NaN</td>\n",
              "    </tr>\n",
              "    <tr>\n",
              "      <th>1</th>\n",
              "      <td>C: +0.50 to +1.99</td>\n",
              "      <td>C: +0.82 to +2.84</td>\n",
              "      <td>C: +2.89 to +7.49</td>\n",
              "      <td>C: +2.79 to +13.06</td>\n",
              "      <td>C: +0.16 to +2.34</td>\n",
              "      <td>NaN</td>\n",
              "      <td>C: +0.78 to +5.75</td>\n",
              "      <td>C: +3.81 to +17.59</td>\n",
              "      <td>NaN</td>\n",
              "      <td>NaN</td>\n",
              "    </tr>\n",
              "    <tr>\n",
              "      <th>2</th>\n",
              "      <td>C: +0.50 to +1.99</td>\n",
              "      <td>C: +0.82 to +2.84</td>\n",
              "      <td>C: +2.89 to +7.49</td>\n",
              "      <td>C: +2.79 to +13.06</td>\n",
              "      <td>C: +0.16 to +2.34</td>\n",
              "      <td>NaN</td>\n",
              "      <td>C: +0.78 to +5.75</td>\n",
              "      <td>C: +3.81 to +17.59</td>\n",
              "      <td>NaN</td>\n",
              "      <td>NaN</td>\n",
              "    </tr>\n",
              "    <tr>\n",
              "      <th>3</th>\n",
              "      <td>C: +0.50 to +1.99</td>\n",
              "      <td>C: +0.82 to +2.84</td>\n",
              "      <td>C: +2.89 to +7.49</td>\n",
              "      <td>C: +2.79 to +13.06</td>\n",
              "      <td>B: -0.40 to +0.16</td>\n",
              "      <td>NaN</td>\n",
              "      <td>C: +0.78 to +5.75</td>\n",
              "      <td>C: +3.81 to +17.59</td>\n",
              "      <td>NaN</td>\n",
              "      <td>NaN</td>\n",
              "    </tr>\n",
              "    <tr>\n",
              "      <th>4</th>\n",
              "      <td>C: +0.50 to +1.99</td>\n",
              "      <td>C: +0.82 to +2.84</td>\n",
              "      <td>B: +1.24 to +2.89</td>\n",
              "      <td>C: +2.79 to +13.06</td>\n",
              "      <td>C: +0.16 to +2.34</td>\n",
              "      <td>NaN</td>\n",
              "      <td>B: -0.38 to +0.78</td>\n",
              "      <td>C: +3.81 to +17.59</td>\n",
              "      <td>NaN</td>\n",
              "      <td>NaN</td>\n",
              "    </tr>\n",
              "  </tbody>\n",
              "</table>\n",
              "</div>\n",
              "    <div class=\"colab-df-buttons\">\n",
              "\n",
              "  <div class=\"colab-df-container\">\n",
              "    <button class=\"colab-df-convert\" onclick=\"convertToInteractive('df-05cb0ea9-0d70-4044-8d2d-8d25e3a62610')\"\n",
              "            title=\"Convert this dataframe to an interactive table.\"\n",
              "            style=\"display:none;\">\n",
              "\n",
              "  <svg xmlns=\"http://www.w3.org/2000/svg\" height=\"24px\" viewBox=\"0 -960 960 960\">\n",
              "    <path d=\"M120-120v-720h720v720H120Zm60-500h600v-160H180v160Zm220 220h160v-160H400v160Zm0 220h160v-160H400v160ZM180-400h160v-160H180v160Zm440 0h160v-160H620v160ZM180-180h160v-160H180v160Zm440 0h160v-160H620v160Z\"/>\n",
              "  </svg>\n",
              "    </button>\n",
              "\n",
              "  <style>\n",
              "    .colab-df-container {\n",
              "      display:flex;\n",
              "      gap: 12px;\n",
              "    }\n",
              "\n",
              "    .colab-df-convert {\n",
              "      background-color: #E8F0FE;\n",
              "      border: none;\n",
              "      border-radius: 50%;\n",
              "      cursor: pointer;\n",
              "      display: none;\n",
              "      fill: #1967D2;\n",
              "      height: 32px;\n",
              "      padding: 0 0 0 0;\n",
              "      width: 32px;\n",
              "    }\n",
              "\n",
              "    .colab-df-convert:hover {\n",
              "      background-color: #E2EBFA;\n",
              "      box-shadow: 0px 1px 2px rgba(60, 64, 67, 0.3), 0px 1px 3px 1px rgba(60, 64, 67, 0.15);\n",
              "      fill: #174EA6;\n",
              "    }\n",
              "\n",
              "    .colab-df-buttons div {\n",
              "      margin-bottom: 4px;\n",
              "    }\n",
              "\n",
              "    [theme=dark] .colab-df-convert {\n",
              "      background-color: #3B4455;\n",
              "      fill: #D2E3FC;\n",
              "    }\n",
              "\n",
              "    [theme=dark] .colab-df-convert:hover {\n",
              "      background-color: #434B5C;\n",
              "      box-shadow: 0px 1px 3px 1px rgba(0, 0, 0, 0.15);\n",
              "      filter: drop-shadow(0px 1px 2px rgba(0, 0, 0, 0.3));\n",
              "      fill: #FFFFFF;\n",
              "    }\n",
              "  </style>\n",
              "\n",
              "    <script>\n",
              "      const buttonEl =\n",
              "        document.querySelector('#df-05cb0ea9-0d70-4044-8d2d-8d25e3a62610 button.colab-df-convert');\n",
              "      buttonEl.style.display =\n",
              "        google.colab.kernel.accessAllowed ? 'block' : 'none';\n",
              "\n",
              "      async function convertToInteractive(key) {\n",
              "        const element = document.querySelector('#df-05cb0ea9-0d70-4044-8d2d-8d25e3a62610');\n",
              "        const dataTable =\n",
              "          await google.colab.kernel.invokeFunction('convertToInteractive',\n",
              "                                                    [key], {});\n",
              "        if (!dataTable) return;\n",
              "\n",
              "        const docLinkHtml = 'Like what you see? Visit the ' +\n",
              "          '<a target=\"_blank\" href=https://colab.research.google.com/notebooks/data_table.ipynb>data table notebook</a>'\n",
              "          + ' to learn more about interactive tables.';\n",
              "        element.innerHTML = '';\n",
              "        dataTable['output_type'] = 'display_data';\n",
              "        await google.colab.output.renderOutput(dataTable, element);\n",
              "        const docLink = document.createElement('div');\n",
              "        docLink.innerHTML = docLinkHtml;\n",
              "        element.appendChild(docLink);\n",
              "      }\n",
              "    </script>\n",
              "  </div>\n",
              "\n",
              "\n",
              "<div id=\"df-c61a05f2-207c-45c1-a745-b7ac279b5bf7\">\n",
              "  <button class=\"colab-df-quickchart\" onclick=\"quickchart('df-c61a05f2-207c-45c1-a745-b7ac279b5bf7')\"\n",
              "            title=\"Suggest charts\"\n",
              "            style=\"display:none;\">\n",
              "\n",
              "<svg xmlns=\"http://www.w3.org/2000/svg\" height=\"24px\"viewBox=\"0 0 24 24\"\n",
              "     width=\"24px\">\n",
              "    <g>\n",
              "        <path d=\"M19 3H5c-1.1 0-2 .9-2 2v14c0 1.1.9 2 2 2h14c1.1 0 2-.9 2-2V5c0-1.1-.9-2-2-2zM9 17H7v-7h2v7zm4 0h-2V7h2v10zm4 0h-2v-4h2v4z\"/>\n",
              "    </g>\n",
              "</svg>\n",
              "  </button>\n",
              "\n",
              "<style>\n",
              "  .colab-df-quickchart {\n",
              "      --bg-color: #E8F0FE;\n",
              "      --fill-color: #1967D2;\n",
              "      --hover-bg-color: #E2EBFA;\n",
              "      --hover-fill-color: #174EA6;\n",
              "      --disabled-fill-color: #AAA;\n",
              "      --disabled-bg-color: #DDD;\n",
              "  }\n",
              "\n",
              "  [theme=dark] .colab-df-quickchart {\n",
              "      --bg-color: #3B4455;\n",
              "      --fill-color: #D2E3FC;\n",
              "      --hover-bg-color: #434B5C;\n",
              "      --hover-fill-color: #FFFFFF;\n",
              "      --disabled-bg-color: #3B4455;\n",
              "      --disabled-fill-color: #666;\n",
              "  }\n",
              "\n",
              "  .colab-df-quickchart {\n",
              "    background-color: var(--bg-color);\n",
              "    border: none;\n",
              "    border-radius: 50%;\n",
              "    cursor: pointer;\n",
              "    display: none;\n",
              "    fill: var(--fill-color);\n",
              "    height: 32px;\n",
              "    padding: 0;\n",
              "    width: 32px;\n",
              "  }\n",
              "\n",
              "  .colab-df-quickchart:hover {\n",
              "    background-color: var(--hover-bg-color);\n",
              "    box-shadow: 0 1px 2px rgba(60, 64, 67, 0.3), 0 1px 3px 1px rgba(60, 64, 67, 0.15);\n",
              "    fill: var(--button-hover-fill-color);\n",
              "  }\n",
              "\n",
              "  .colab-df-quickchart-complete:disabled,\n",
              "  .colab-df-quickchart-complete:disabled:hover {\n",
              "    background-color: var(--disabled-bg-color);\n",
              "    fill: var(--disabled-fill-color);\n",
              "    box-shadow: none;\n",
              "  }\n",
              "\n",
              "  .colab-df-spinner {\n",
              "    border: 2px solid var(--fill-color);\n",
              "    border-color: transparent;\n",
              "    border-bottom-color: var(--fill-color);\n",
              "    animation:\n",
              "      spin 1s steps(1) infinite;\n",
              "  }\n",
              "\n",
              "  @keyframes spin {\n",
              "    0% {\n",
              "      border-color: transparent;\n",
              "      border-bottom-color: var(--fill-color);\n",
              "      border-left-color: var(--fill-color);\n",
              "    }\n",
              "    20% {\n",
              "      border-color: transparent;\n",
              "      border-left-color: var(--fill-color);\n",
              "      border-top-color: var(--fill-color);\n",
              "    }\n",
              "    30% {\n",
              "      border-color: transparent;\n",
              "      border-left-color: var(--fill-color);\n",
              "      border-top-color: var(--fill-color);\n",
              "      border-right-color: var(--fill-color);\n",
              "    }\n",
              "    40% {\n",
              "      border-color: transparent;\n",
              "      border-right-color: var(--fill-color);\n",
              "      border-top-color: var(--fill-color);\n",
              "    }\n",
              "    60% {\n",
              "      border-color: transparent;\n",
              "      border-right-color: var(--fill-color);\n",
              "    }\n",
              "    80% {\n",
              "      border-color: transparent;\n",
              "      border-right-color: var(--fill-color);\n",
              "      border-bottom-color: var(--fill-color);\n",
              "    }\n",
              "    90% {\n",
              "      border-color: transparent;\n",
              "      border-bottom-color: var(--fill-color);\n",
              "    }\n",
              "  }\n",
              "</style>\n",
              "\n",
              "  <script>\n",
              "    async function quickchart(key) {\n",
              "      const quickchartButtonEl =\n",
              "        document.querySelector('#' + key + ' button');\n",
              "      quickchartButtonEl.disabled = true;  // To prevent multiple clicks.\n",
              "      quickchartButtonEl.classList.add('colab-df-spinner');\n",
              "      try {\n",
              "        const charts = await google.colab.kernel.invokeFunction(\n",
              "            'suggestCharts', [key], {});\n",
              "      } catch (error) {\n",
              "        console.error('Error during call to suggestCharts:', error);\n",
              "      }\n",
              "      quickchartButtonEl.classList.remove('colab-df-spinner');\n",
              "      quickchartButtonEl.classList.add('colab-df-quickchart-complete');\n",
              "    }\n",
              "    (() => {\n",
              "      let quickchartButtonEl =\n",
              "        document.querySelector('#df-c61a05f2-207c-45c1-a745-b7ac279b5bf7 button');\n",
              "      quickchartButtonEl.style.display =\n",
              "        google.colab.kernel.accessAllowed ? 'block' : 'none';\n",
              "    })();\n",
              "  </script>\n",
              "</div>\n",
              "\n",
              "    </div>\n",
              "  </div>\n"
            ],
            "application/vnd.google.colaboratory.intrinsic+json": {
              "type": "dataframe",
              "variable_name": "df",
              "summary": "{\n  \"name\": \"df\",\n  \"rows\": 60,\n  \"fields\": [\n    {\n      \"column\": \"Pop\",\n      \"properties\": {\n        \"dtype\": \"category\",\n        \"num_unique_values\": 3,\n        \"samples\": [\n          \"C: +0.50 to +1.99\",\n          \"B: +0.07 to +0.50\",\n          \"A: -0.19 to +0.07\"\n        ],\n        \"semantic_type\": \"\",\n        \"description\": \"\"\n      }\n    },\n    {\n      \"column\": \"Urb\",\n      \"properties\": {\n        \"dtype\": \"category\",\n        \"num_unique_values\": 3,\n        \"samples\": [\n          \"C: +0.82 to +2.84\",\n          \"B: +0.15 to +0.82\",\n          \"A: -0.02 to +0.15\"\n        ],\n        \"semantic_type\": \"\",\n        \"description\": \"\"\n      }\n    },\n    {\n      \"column\": \"GDP\",\n      \"properties\": {\n        \"dtype\": \"category\",\n        \"num_unique_values\": 3,\n        \"samples\": [\n          \"C: +2.89 to +7.49\",\n          \"B: +1.24 to +2.89\",\n          \"A: -5.71 to +1.24\"\n        ],\n        \"semantic_type\": \"\",\n        \"description\": \"\"\n      }\n    },\n    {\n      \"column\": \"EC\",\n      \"properties\": {\n        \"dtype\": \"category\",\n        \"num_unique_values\": 3,\n        \"samples\": [\n          \"C: +2.79 to +13.06\",\n          \"A: -7.05 to -0.12\",\n          \"B: -0.12 to +2.79\"\n        ],\n        \"semantic_type\": \"\",\n        \"description\": \"\"\n      }\n    },\n    {\n      \"column\": \"FFEC\",\n      \"properties\": {\n        \"dtype\": \"category\",\n        \"num_unique_values\": 3,\n        \"samples\": [\n          \"C: +0.16 to +2.34\",\n          \"B: -0.40 to +0.16\",\n          \"A: -2.72 to -0.40\"\n        ],\n        \"semantic_type\": \"\",\n        \"description\": \"\"\n      }\n    },\n    {\n      \"column\": \"REC\",\n      \"properties\": {\n        \"dtype\": \"category\",\n        \"num_unique_values\": 3,\n        \"samples\": [\n          \"C: +11.51 to +23.95\",\n          \"B: +2.03 to +11.51\",\n          \"A: -14.97 to +2.03\"\n        ],\n        \"semantic_type\": \"\",\n        \"description\": \"\"\n      }\n    },\n    {\n      \"column\": \"EI\",\n      \"properties\": {\n        \"dtype\": \"category\",\n        \"num_unique_values\": 3,\n        \"samples\": [\n          \"C: +0.78 to +5.75\",\n          \"B: -0.38 to +0.78\",\n          \"A: -3.27 to -0.38\"\n        ],\n        \"semantic_type\": \"\",\n        \"description\": \"\"\n      }\n    },\n    {\n      \"column\": \"CO2\",\n      \"properties\": {\n        \"dtype\": \"category\",\n        \"num_unique_values\": 3,\n        \"samples\": [\n          \"C: +3.81 to +17.59\",\n          \"B: -0.79 to +3.81\",\n          \"A: -10.20 to -0.79\"\n        ],\n        \"semantic_type\": \"\",\n        \"description\": \"\"\n      }\n    },\n    {\n      \"column\": \"CH4\",\n      \"properties\": {\n        \"dtype\": \"category\",\n        \"num_unique_values\": 3,\n        \"samples\": [\n          \"A: -6.02 to -0.31\",\n          \"C: +2.11 to +9.00\",\n          \"B: -0.31 to +2.11\"\n        ],\n        \"semantic_type\": \"\",\n        \"description\": \"\"\n      }\n    },\n    {\n      \"column\": \"N2O\",\n      \"properties\": {\n        \"dtype\": \"category\",\n        \"num_unique_values\": 3,\n        \"samples\": [\n          \"C: +2.75 to +12.61\",\n          \"B: +0.61 to +2.75\",\n          \"A: -4.31 to +0.61\"\n        ],\n        \"semantic_type\": \"\",\n        \"description\": \"\"\n      }\n    }\n  ]\n}"
            }
          },
          "metadata": {},
          "execution_count": 39
        }
      ]
    },
    {
      "cell_type": "markdown",
      "source": [
        "## Aprendiendo los parámetros de la red"
      ],
      "metadata": {
        "id": "rZ4oml0Kq9bP"
      }
    },
    {
      "cell_type": "markdown",
      "source": [
        "Para realizar el análisis paramétrico, se emplearán los dos métodos estudiados: la estimación bayesiana y la estimación con máxima verosimilitud (MLE)."
      ],
      "metadata": {
        "id": "0IUMvtbQrA6e"
      }
    },
    {
      "cell_type": "markdown",
      "source": [
        "### Estimación bayesiana"
      ],
      "metadata": {
        "id": "cTwADnmbrd4o"
      }
    },
    {
      "cell_type": "markdown",
      "source": [
        "La Estimación Bayesiana es un enfoque probabilístico que combina una distribución inicial, conocida como distribución a priori, con los datos observados para calcular una nueva distribución, llamada distribución a posteriori. Este método permite incorporar conocimientos previos al proceso de aprendizaje, lo que resulta especialmente útil cuando los datos son escasos o incompletos.\n",
        "\n",
        "En este caso, usaremos la distribución a priori conocida como la Bayesian Dirichlet Equivalent Uniform Prior (BDeu), la cual introduce pseudo-cuentos que garantizan una representación más conservadora y robusta de las probabilidades condicionales. De este modo, se obtiene un modelo más generalizable y menos susceptible a las fluctuaciones de los datos."
      ],
      "metadata": {
        "id": "Yj1RwI4-sseI"
      }
    },
    {
      "cell_type": "code",
      "source": [
        "# disable text wrapping in output cell\n",
        "display(HTML(\"<style>div.output_area pre {white-space: pre;}</style>\"))\n",
        "\n",
        "model.cpds = []\n",
        "model.fit(data=df,\n",
        "          estimator=BayesianEstimator,\n",
        "          prior_type=\"bdeu\",\n",
        "          equivalent_sample_size=10)\n",
        "\n",
        "print(f'Check model: {model.check_model()}\\n')\n",
        "for cpd in model.get_cpds():\n",
        "    print(f'CPT of {cpd.variable}:')\n",
        "    print(cpd, '\\n')"
      ],
      "metadata": {
        "colab": {
          "base_uri": "https://localhost:8080/",
          "height": 1000
        },
        "id": "cjppDwjSrrYd",
        "outputId": "43f7c306-d7b9-4c04-abc2-36ab8863e993"
      },
      "execution_count": 36,
      "outputs": [
        {
          "output_type": "display_data",
          "data": {
            "text/plain": [
              "<IPython.core.display.HTML object>"
            ],
            "text/html": [
              "<style>div.output_area pre {white-space: pre;}</style>"
            ]
          },
          "metadata": {}
        },
        {
          "output_type": "stream",
          "name": "stdout",
          "text": [
            "Check model: True\n",
            "\n",
            "CPT of Pop:\n",
            "+------------------------+----------+\n",
            "| Pop(A: -0.19 to +0.07) | 0.338164 |\n",
            "+------------------------+----------+\n",
            "| Pop(B: +0.07 to +0.50) | 0.338164 |\n",
            "+------------------------+----------+\n",
            "| Pop(C: +0.50 to +1.99) | 0.323671 |\n",
            "+------------------------+----------+ \n",
            "\n",
            "CPT of EC:\n",
            "+------------------------+-----+------------------------+\n",
            "| GDP                    | ... | GDP(C: +2.89 to +7.49) |\n",
            "+------------------------+-----+------------------------+\n",
            "| Pop                    | ... | Pop(C: +0.50 to +1.99) |\n",
            "+------------------------+-----+------------------------+\n",
            "| Urb                    | ... | Urb(C: +0.82 to +2.84) |\n",
            "+------------------------+-----+------------------------+\n",
            "| EC(A: -7.05 to -0.12)  | ... | 0.010857763300760043   |\n",
            "+------------------------+-----+------------------------+\n",
            "| EC(B: -0.12 to +2.79)  | ... | 0.09880564603691641    |\n",
            "+------------------------+-----+------------------------+\n",
            "| EC(C: +2.79 to +13.06) | ... | 0.8903365906623236     |\n",
            "+------------------------+-----+------------------------+ \n",
            "\n",
            "CPT of Urb:\n",
            "+------------------------+----------+\n",
            "| Urb(A: -0.02 to +0.15) | 0.338164 |\n",
            "+------------------------+----------+\n",
            "| Urb(B: +0.15 to +0.82) | 0.338164 |\n",
            "+------------------------+----------+\n",
            "| Urb(C: +0.82 to +2.84) | 0.323671 |\n",
            "+------------------------+----------+ \n",
            "\n",
            "CPT of GDP:\n",
            "+------------------------+----------+\n",
            "| GDP(A: -5.71 to +1.24) | 0.343137 |\n",
            "+------------------------+----------+\n",
            "| GDP(B: +1.24 to +2.89) | 0.328431 |\n",
            "+------------------------+----------+\n",
            "| GDP(C: +2.89 to +7.49) | 0.328431 |\n",
            "+------------------------+----------+ \n",
            "\n",
            "CPT of FFEC:\n",
            "+-------------------------+-----------------------+-----------------------+------------------------+\n",
            "| EC                      | EC(A: -7.05 to -0.12) | EC(B: -0.12 to +2.79) | EC(C: +2.79 to +13.06) |\n",
            "+-------------------------+-----------------------+-----------------------+------------------------+\n",
            "| FFEC(A: -2.72 to -0.40) | 0.5870646766169154    | 0.3333333333333333    | 0.09895833333333334    |\n",
            "+-------------------------+-----------------------+-----------------------+------------------------+\n",
            "| FFEC(B: -0.40 to +0.16) | 0.36318407960199006   | 0.4270833333333333    | 0.19270833333333331    |\n",
            "+-------------------------+-----------------------+-----------------------+------------------------+\n",
            "| FFEC(C: +0.16 to +2.34) | 0.04975124378109453   | 0.23958333333333331   | 0.7083333333333334     |\n",
            "+-------------------------+-----------------------+-----------------------+------------------------+ \n",
            "\n",
            "CPT of REC:\n",
            "+--------------------------+-----+------------------------+\n",
            "| EC                       | ... | EC(C: +2.79 to +13.06) |\n",
            "+--------------------------+-----+------------------------+\n",
            "| REC(A: -14.97 to +2.03)  | ... | 0.3958333333333333     |\n",
            "+--------------------------+-----+------------------------+\n",
            "| REC(B: +2.03 to +11.51)  | ... | 0.3958333333333333     |\n",
            "+--------------------------+-----+------------------------+\n",
            "| REC(C: +11.51 to +23.95) | ... | 0.20833333333333331    |\n",
            "+--------------------------+-----+------------------------+ \n",
            "\n",
            "CPT of EI:\n",
            "+-----------------------+-----------------------+-----------------------+------------------------+\n",
            "| EC                    | EC(A: -7.05 to -0.12) | EC(B: -0.12 to +2.79) | EC(C: +2.79 to +13.06) |\n",
            "+-----------------------+-----------------------+-----------------------+------------------------+\n",
            "| EI(A: -3.27 to -0.38) | 0.6766169154228856    | 0.2864583333333333    | 0.052083333333333336   |\n",
            "+-----------------------+-----------------------+-----------------------+------------------------+\n",
            "| EI(B: -0.38 to +0.78) | 0.2288557213930348    | 0.4739583333333333    | 0.2864583333333333     |\n",
            "+-----------------------+-----------------------+-----------------------+------------------------+\n",
            "| EI(C: +0.78 to +5.75) | 0.09452736318407962   | 0.23958333333333331   | 0.6614583333333334     |\n",
            "+-----------------------+-----------------------+-----------------------+------------------------+ \n",
            "\n",
            "CPT of CO2:\n",
            "+-------------------------+-----+--------------------------+\n",
            "| FFEC                    | ... | FFEC(C: +0.16 to +2.34)  |\n",
            "+-------------------------+-----+--------------------------+\n",
            "| REC                     | ... | REC(C: +11.51 to +23.95) |\n",
            "+-------------------------+-----+--------------------------+\n",
            "| CO2(A: -10.20 to -0.79) | ... | 0.3333333333333333       |\n",
            "+-------------------------+-----+--------------------------+\n",
            "| CO2(B: -0.79 to +3.81)  | ... | 0.3333333333333333       |\n",
            "+-------------------------+-----+--------------------------+\n",
            "| CO2(C: +3.81 to +17.59) | ... | 0.3333333333333333       |\n",
            "+-------------------------+-----+--------------------------+ \n",
            "\n",
            "CPT of CH4:\n",
            "+------------------------+-----+--------------------------+\n",
            "| FFEC                   | ... | FFEC(C: +0.16 to +2.34)  |\n",
            "+------------------------+-----+--------------------------+\n",
            "| REC                    | ... | REC(C: +11.51 to +23.95) |\n",
            "+------------------------+-----+--------------------------+\n",
            "| CH4(A: -6.02 to -0.31) | ... | 0.3333333333333333       |\n",
            "+------------------------+-----+--------------------------+\n",
            "| CH4(B: -0.31 to +2.11) | ... | 0.3333333333333333       |\n",
            "+------------------------+-----+--------------------------+\n",
            "| CH4(C: +2.11 to +9.00) | ... | 0.3333333333333333       |\n",
            "+------------------------+-----+--------------------------+ \n",
            "\n",
            "CPT of N2O:\n",
            "+-------------------------+-----+--------------------------+\n",
            "| FFEC                    | ... | FFEC(C: +0.16 to +2.34)  |\n",
            "+-------------------------+-----+--------------------------+\n",
            "| REC                     | ... | REC(C: +11.51 to +23.95) |\n",
            "+-------------------------+-----+--------------------------+\n",
            "| N2O(A: -4.31 to +0.61)  | ... | 0.3333333333333333       |\n",
            "+-------------------------+-----+--------------------------+\n",
            "| N2O(B: +0.61 to +2.75)  | ... | 0.3333333333333333       |\n",
            "+-------------------------+-----+--------------------------+\n",
            "| N2O(C: +2.75 to +12.61) | ... | 0.3333333333333333       |\n",
            "+-------------------------+-----+--------------------------+ \n",
            "\n"
          ]
        }
      ]
    },
    {
      "cell_type": "markdown",
      "source": [
        "### Estimación con máxima verosimilitud (MLE)"
      ],
      "metadata": {
        "id": "D_3xLHuzrY2_"
      }
    },
    {
      "cell_type": "markdown",
      "source": [
        "La Estimación por Máxima Verosimilitud (MLE) es un enfoque estadístico que busca determinar los valores de los parámetros de un modelo que maximizan la probabilidad de los datos observados. Este método se basa únicamente en los datos disponibles, sin hacer suposiciones adicionales sobre distribuciones previas, lo que lo convierte en un enfoque directo y objetivo.\n",
        "\n",
        "En el caso de las redes bayesianas con variables discretas, MLE estima las probabilidades condicionales de los nodos considerando únicamente las frecuencias observadas en los datos."
      ],
      "metadata": {
        "id": "CGigFbI5uot5"
      }
    },
    {
      "cell_type": "code",
      "source": [
        "# disable text wrapping in output cell\n",
        "display(HTML(\"<style>div.output_area pre {white-space: pre;}</style>\"))\n",
        "\n",
        "model.cpds = []\n",
        "model.fit(data=df,\n",
        "          estimator=MaximumLikelihoodEstimator)\n",
        "\n",
        "print(f'Check model: {model.check_model()}\\n')\n",
        "for cpd in model.get_cpds():\n",
        "    print(f'CPT of {cpd.variable}:')\n",
        "    print(cpd, '\\n')"
      ],
      "metadata": {
        "colab": {
          "base_uri": "https://localhost:8080/",
          "height": 1000
        },
        "id": "JYuy1_ptrdiK",
        "outputId": "a4602d00-7ce8-4e5f-e8c1-50ffd85ea14e"
      },
      "execution_count": 37,
      "outputs": [
        {
          "output_type": "display_data",
          "data": {
            "text/plain": [
              "<IPython.core.display.HTML object>"
            ],
            "text/html": [
              "<style>div.output_area pre {white-space: pre;}</style>"
            ]
          },
          "metadata": {}
        },
        {
          "output_type": "stream",
          "name": "stdout",
          "text": [
            "Check model: True\n",
            "\n",
            "CPT of Pop:\n",
            "+------------------------+----------+\n",
            "| Pop(A: -0.19 to +0.07) | 0.338983 |\n",
            "+------------------------+----------+\n",
            "| Pop(B: +0.07 to +0.50) | 0.338983 |\n",
            "+------------------------+----------+\n",
            "| Pop(C: +0.50 to +1.99) | 0.322034 |\n",
            "+------------------------+----------+ \n",
            "\n",
            "CPT of EC:\n",
            "+------------------------+-----+------------------------+\n",
            "| GDP                    | ... | GDP(C: +2.89 to +7.49) |\n",
            "+------------------------+-----+------------------------+\n",
            "| Pop                    | ... | Pop(C: +0.50 to +1.99) |\n",
            "+------------------------+-----+------------------------+\n",
            "| Urb                    | ... | Urb(C: +0.82 to +2.84) |\n",
            "+------------------------+-----+------------------------+\n",
            "| EC(A: -7.05 to -0.12)  | ... | 0.0                    |\n",
            "+------------------------+-----+------------------------+\n",
            "| EC(B: -0.12 to +2.79)  | ... | 0.09090909090909091    |\n",
            "+------------------------+-----+------------------------+\n",
            "| EC(C: +2.79 to +13.06) | ... | 0.9090909090909091     |\n",
            "+------------------------+-----+------------------------+ \n",
            "\n",
            "CPT of Urb:\n",
            "+------------------------+----------+\n",
            "| Urb(A: -0.02 to +0.15) | 0.338983 |\n",
            "+------------------------+----------+\n",
            "| Urb(B: +0.15 to +0.82) | 0.338983 |\n",
            "+------------------------+----------+\n",
            "| Urb(C: +0.82 to +2.84) | 0.322034 |\n",
            "+------------------------+----------+ \n",
            "\n",
            "CPT of GDP:\n",
            "+------------------------+----------+\n",
            "| GDP(A: -5.71 to +1.24) | 0.344828 |\n",
            "+------------------------+----------+\n",
            "| GDP(B: +1.24 to +2.89) | 0.327586 |\n",
            "+------------------------+----------+\n",
            "| GDP(C: +2.89 to +7.49) | 0.327586 |\n",
            "+------------------------+----------+ \n",
            "\n",
            "CPT of FFEC:\n",
            "+-------------------------+-----------------------+-----------------------+------------------------+\n",
            "| EC                      | EC(A: -7.05 to -0.12) | EC(B: -0.12 to +2.79) | EC(C: +2.79 to +13.06) |\n",
            "+-------------------------+-----------------------+-----------------------+------------------------+\n",
            "| FFEC(A: -2.72 to -0.40) | 0.631578947368421     | 0.3333333333333333    | 0.05555555555555555    |\n",
            "+-------------------------+-----------------------+-----------------------+------------------------+\n",
            "| FFEC(B: -0.40 to +0.16) | 0.3684210526315789    | 0.4444444444444444    | 0.16666666666666666    |\n",
            "+-------------------------+-----------------------+-----------------------+------------------------+\n",
            "| FFEC(C: +0.16 to +2.34) | 0.0                   | 0.2222222222222222    | 0.7777777777777778     |\n",
            "+-------------------------+-----------------------+-----------------------+------------------------+ \n",
            "\n",
            "CPT of REC:\n",
            "+--------------------------+-----+------------------------+\n",
            "| EC                       | ... | EC(C: +2.79 to +13.06) |\n",
            "+--------------------------+-----+------------------------+\n",
            "| REC(A: -14.97 to +2.03)  | ... | 0.5                    |\n",
            "+--------------------------+-----+------------------------+\n",
            "| REC(B: +2.03 to +11.51)  | ... | 0.5                    |\n",
            "+--------------------------+-----+------------------------+\n",
            "| REC(C: +11.51 to +23.95) | ... | 0.0                    |\n",
            "+--------------------------+-----+------------------------+ \n",
            "\n",
            "CPT of EI:\n",
            "+-----------------------+-----------------------+-----------------------+------------------------+\n",
            "| EC                    | EC(A: -7.05 to -0.12) | EC(B: -0.12 to +2.79) | EC(C: +2.79 to +13.06) |\n",
            "+-----------------------+-----------------------+-----------------------+------------------------+\n",
            "| EI(A: -3.27 to -0.38) | 0.7368421052631579    | 0.2777777777777778    | 0.0                    |\n",
            "+-----------------------+-----------------------+-----------------------+------------------------+\n",
            "| EI(B: -0.38 to +0.78) | 0.21052631578947367   | 0.5                   | 0.2777777777777778     |\n",
            "+-----------------------+-----------------------+-----------------------+------------------------+\n",
            "| EI(C: +0.78 to +5.75) | 0.05263157894736842   | 0.2222222222222222    | 0.7222222222222222     |\n",
            "+-----------------------+-----------------------+-----------------------+------------------------+ \n",
            "\n",
            "CPT of CO2:\n",
            "+-------------------------+-----+--------------------------+\n",
            "| FFEC                    | ... | FFEC(C: +0.16 to +2.34)  |\n",
            "+-------------------------+-----+--------------------------+\n",
            "| REC                     | ... | REC(C: +11.51 to +23.95) |\n",
            "+-------------------------+-----+--------------------------+\n",
            "| CO2(A: -10.20 to -0.79) | ... | 0.3333333333333333       |\n",
            "+-------------------------+-----+--------------------------+\n",
            "| CO2(B: -0.79 to +3.81)  | ... | 0.3333333333333333       |\n",
            "+-------------------------+-----+--------------------------+\n",
            "| CO2(C: +3.81 to +17.59) | ... | 0.3333333333333333       |\n",
            "+-------------------------+-----+--------------------------+ \n",
            "\n",
            "CPT of CH4:\n",
            "+------------------------+-----+--------------------------+\n",
            "| FFEC                   | ... | FFEC(C: +0.16 to +2.34)  |\n",
            "+------------------------+-----+--------------------------+\n",
            "| REC                    | ... | REC(C: +11.51 to +23.95) |\n",
            "+------------------------+-----+--------------------------+\n",
            "| CH4(A: -6.02 to -0.31) | ... | 0.3333333333333333       |\n",
            "+------------------------+-----+--------------------------+\n",
            "| CH4(B: -0.31 to +2.11) | ... | 0.3333333333333333       |\n",
            "+------------------------+-----+--------------------------+\n",
            "| CH4(C: +2.11 to +9.00) | ... | 0.3333333333333333       |\n",
            "+------------------------+-----+--------------------------+ \n",
            "\n",
            "CPT of N2O:\n",
            "+-------------------------+-----+--------------------------+\n",
            "| FFEC                    | ... | FFEC(C: +0.16 to +2.34)  |\n",
            "+-------------------------+-----+--------------------------+\n",
            "| REC                     | ... | REC(C: +11.51 to +23.95) |\n",
            "+-------------------------+-----+--------------------------+\n",
            "| N2O(A: -4.31 to +0.61)  | ... | 0.3333333333333333       |\n",
            "+-------------------------+-----+--------------------------+\n",
            "| N2O(B: +0.61 to +2.75)  | ... | 0.3333333333333333       |\n",
            "+-------------------------+-----+--------------------------+\n",
            "| N2O(C: +2.75 to +12.61) | ... | 0.3333333333333333       |\n",
            "+-------------------------+-----+--------------------------+ \n",
            "\n"
          ]
        }
      ]
    }
  ]
}